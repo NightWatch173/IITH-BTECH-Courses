{
 "nbformat": 4,
 "nbformat_minor": 2,
 "metadata": {
  "language_info": {
   "name": "python",
   "codemirror_mode": {
    "name": "ipython",
    "version": 3
   },
   "version": "3.7.4-final"
  },
  "orig_nbformat": 2,
  "file_extension": ".py",
  "mimetype": "text/x-python",
  "name": "python",
  "npconvert_exporter": "python",
  "pygments_lexer": "ipython3",
  "version": 3,
  "kernelspec": {
   "name": "python3",
   "display_name": "Python 3",
   "language": "python"
  }
 },
 "cells": [
  {
   "cell_type": "code",
   "execution_count": 1,
   "metadata": {},
   "outputs": [],
   "source": [
    "import math\n",
    "import numpy as np\n",
    "import pathlib\n",
    "import scipy.io.wavfile as wav\n",
    "\n",
    "from python_speech_features import mfcc\n",
    "from numpy.random import random\n",
    "from scipy.stats import multivariate_normal\n",
    "from tqdm.notebook import tqdm"
   ]
  },
  {
   "cell_type": "code",
   "execution_count": 2,
   "metadata": {},
   "outputs": [],
   "source": [
    "PATH = pathlib.Path('~/Downloads/syllable/SVL-PRASANNA-CV').expanduser() # Path to dataset\n",
    "CLASSES = ('a', 'xho') # Two classes to distinguish\n",
    "X_Dim = 13 # Basic 13 element version of MFCC\n",
    "DELTA = 0.0000000001 # Delta used for numerical stability"
   ]
  },
  {
   "cell_type": "code",
   "execution_count": 3,
   "metadata": {},
   "outputs": [],
   "source": [
    "def normpdf(x, mean, sd):\n",
    "    var = sd**2 + DELTA\n",
    "    return -0.5*(np.log(2*np.pi*var) + (x-mean)**2/var)"
   ]
  },
  {
   "source": [
    "# Part 1\n",
    "\n",
    "Find Mel-Frequency Cepstral Coefficients (MFCCs) from the raw speech samples.  \n",
    "Pick 25 ms worth of speech samples with a 10 ms overlap to find MFCCs.  \n",
    "Use the basic 13 element version of MFCC as the feature vector representing 25 ms of speech."
   ],
   "cell_type": "markdown",
   "metadata": {}
  },
  {
   "cell_type": "code",
   "execution_count": 4,
   "metadata": {},
   "outputs": [],
   "source": [
    "def read_data():\n",
    "    \"\"\"\n",
    "    Read wav files and create a dataset\n",
    "    \"\"\"\n",
    "    dataset = []\n",
    "    for name in CLASSES:\n",
    "        data = []\n",
    "        for filepath in (PATH / name).glob('*.wav'):\n",
    "            rate, sig = wav.read(filepath)\n",
    "            mfcc_features = mfcc(sig, rate, winlen=0.025, winstep=0.015, numcep=X_Dim)\n",
    "            data.append(mfcc_features)\n",
    "        dataset.append(data)\n",
    "    return dataset\n"
   ]
  },
  {
   "cell_type": "code",
   "execution_count": 5,
   "metadata": {},
   "outputs": [],
   "source": [
    "class HMM:\n",
    "\n",
    "    def __init__(self, N=100):\n",
    "        self.N = N\n",
    "        self.pi = np.asarray([1./self.N] * self.N)\n",
    "        self.a = np.random.rand(self.N, self.N)\n",
    "        self.a = self.a/np.sum(self.a, axis=1)\n",
    "        self.mu = np.zeros(self.N)\n",
    "        self.covat = np.ones(self.N)\n",
    "\n",
    "    def update(self, sequence):\n",
    "        # Calculate Update\n",
    "        forward = self.forward(sequence)\n",
    "        backward = self.backward(sequence)\n",
    "        gamma, ksi = self.update_gamma_ksi(forward,backward,sequence)\n",
    "        for s in range(self.N):\n",
    "            self.pi[s] = gamma[s, 0]\n",
    "            for s_ in range(self.N):\n",
    "                self.a[s,s_] = self.log_sum_exp(ksi[s,s_,:]) - self.log_sum_exp(gamma[s,:])\n",
    "\n",
    "        for s in range(self.N):\n",
    "            gamma_s = gamma[s,:]\n",
    "            self.mu[s] = np.sum(np.exp(gamma_s)*sequence)/(np.sum(np.exp(gamma_s)) + DELTA)\n",
    "            self.covat[s] = np.sum(np.exp(gamma_s)*(sequence-self.mu[s])*(sequence-self.mu[s]))/(np.sum(np.exp(gamma_s)) + DELTA)\n",
    "\n",
    "\n",
    "    def forward(self, sequence):\n",
    "        \"\"\"\n",
    "        Forward Algorithm to calculate the alpha matrix of size N * X_Dim\n",
    "        \"\"\"\n",
    "        forward = np.zeros((self.N, X_Dim))\n",
    "        for s in range(self.N):\n",
    "            forward[s,0] = self.pi[s] + normpdf(sequence[0],self.mu[s],self.covat[s])\n",
    "\n",
    "        for t in range(1, X_Dim):\n",
    "            o = sequence[t]\n",
    "            for s in range(self.N):\n",
    "                sum_seq = []\n",
    "                for s_ in range(self.N):\n",
    "                    sum_seq.append(forward[s_,t-1] + self.a[s_][s])\n",
    "                    \n",
    "            forward[s,t] = self.log_sum_exp(sum_seq) + normpdf(o,self.mu[s],self.covat[s])\n",
    "        return forward\n",
    "\n",
    "    def backward(self, sequence):\n",
    "        \"\"\"\n",
    "        Backward Algorithm method to calculate the bksi matrix of shape N * X_Dim\n",
    "        \"\"\"\n",
    "        backward = np.zeros((self.N, X_Dim))\n",
    "        for t in range(X_Dim-2,0,-1):\n",
    "            o = sequence[t+1]\n",
    "            for s in range(self.N):\n",
    "                sum_seq = []\n",
    "                for s_ in range(self.N):\n",
    "                    sum_seq.append(backward[s_,t+1] + self.a[s,s_] + normpdf(o,self.mu[s_],self.covat[s_]))\n",
    "            \n",
    "            backward[s,t] = self.log_sum_exp(sum_seq)\n",
    "        return backward\n",
    "\n",
    "    def update_gamma_ksi(self, forward, backward, sequence):\n",
    "        gamma = np.zeros((self.N, X_Dim))\n",
    "        ksi = np.zeros((self.N,self.N, X_Dim))\n",
    "\n",
    "        for t in range(X_Dim):\n",
    "            sum_ = self.log_sum_exp(forward[:,t]+ backward[:,t])\n",
    "            for s in range(self.N):\n",
    "                gamma[s,t] = forward[s,t] + backward[s,t] -sum_\n",
    "\n",
    "        sum_ = np.zeros(X_Dim-1)\n",
    "        for t in range(X_Dim-1):\n",
    "            sum_seq = []\n",
    "            for s in range(self.N):\n",
    "                for s_ in range(self.N):\n",
    "                   sum_seq.append(forward[s,t] + self.a[s,s_] + backward[s_,t+1] + normpdf(sequence[t+1],self.mu[s_],self.covat[s_])) \n",
    "            sum_[t] = self.log_sum_exp(sum_seq)\n",
    "\n",
    "        for t in range(X_Dim-1):\n",
    "            for s in range(self.N):\n",
    "                for s_ in range(self.N):\n",
    "                    ksi[s,s_,t] = forward[s,t] + self.a[s,s_] + backward[s_,t+1] +  normpdf(sequence[t+1],self.mu[s_],self.covat[s_]) - sum_[t]\n",
    "\n",
    "        return gamma,ksi\n",
    "\n",
    "    def log_sum_exp(self, seq):\n",
    "        a = min(seq) if abs(min(seq)) > abs(max(seq)) else max(seq)\n",
    "        total = 0\n",
    "        for x in seq:\n",
    "            total += np.exp(x - a)\n",
    "        return a + np.log(total)\n",
    "\n",
    "    def likelihood(self, sequence):\n",
    "        forward = self.forward(sequence)\n",
    "        return self.log_sum_exp(forward[:,-1])"
   ]
  },
  {
   "cell_type": "code",
   "execution_count": 6,
   "metadata": {},
   "outputs": [
    {
     "output_type": "display_data",
     "data": {
      "text/plain": "HBox(children=(FloatProgress(value=0.0, max=3.0), HTML(value='')))",
      "application/vnd.jupyter.widget-view+json": {
       "version_major": 2,
       "version_minor": 0,
       "model_id": "8eb50f52094c43f59f230726ff92225b"
      }
     },
     "metadata": {}
    },
    {
     "output_type": "display_data",
     "data": {
      "text/plain": "HBox(children=(FloatProgress(value=0.0, max=67.0), HTML(value='')))",
      "application/vnd.jupyter.widget-view+json": {
       "version_major": 2,
       "version_minor": 0,
       "model_id": "3cd8ef037bae4ee19ae0bcf0a4cafaee"
      }
     },
     "metadata": {}
    },
    {
     "output_type": "stream",
     "name": "stdout",
     "text": [
      "\n"
     ]
    },
    {
     "output_type": "display_data",
     "data": {
      "text/plain": "HBox(children=(FloatProgress(value=0.0, max=67.0), HTML(value='')))",
      "application/vnd.jupyter.widget-view+json": {
       "version_major": 2,
       "version_minor": 0,
       "model_id": "222ef6d8fc0b46c1a73a722aeeeb8680"
      }
     },
     "metadata": {}
    },
    {
     "output_type": "stream",
     "name": "stdout",
     "text": [
      "\n"
     ]
    },
    {
     "output_type": "display_data",
     "data": {
      "text/plain": "HBox(children=(FloatProgress(value=0.0, max=75.0), HTML(value='')))",
      "application/vnd.jupyter.widget-view+json": {
       "version_major": 2,
       "version_minor": 0,
       "model_id": "8862ff8590f84c54b247902c33b18d06"
      }
     },
     "metadata": {}
    },
    {
     "output_type": "stream",
     "name": "stdout",
     "text": [
      "\n\n"
     ]
    },
    {
     "output_type": "display_data",
     "data": {
      "text/plain": "HBox(children=(FloatProgress(value=0.0, max=36.0), HTML(value='')))",
      "application/vnd.jupyter.widget-view+json": {
       "version_major": 2,
       "version_minor": 0,
       "model_id": "7de34b32bbc74e09a4cc5b89cd14ef4e"
      }
     },
     "metadata": {}
    },
    {
     "output_type": "display_data",
     "data": {
      "text/plain": "HBox(children=(FloatProgress(value=0.0, max=34.0), HTML(value='')))",
      "application/vnd.jupyter.widget-view+json": {
       "version_major": 2,
       "version_minor": 0,
       "model_id": "186a1c985af947898f9a28b486ee8e02"
      }
     },
     "metadata": {}
    },
    {
     "output_type": "stream",
     "name": "stdout",
     "text": [
      "\n"
     ]
    },
    {
     "output_type": "display_data",
     "data": {
      "text/plain": "HBox(children=(FloatProgress(value=0.0, max=35.0), HTML(value='')))",
      "application/vnd.jupyter.widget-view+json": {
       "version_major": 2,
       "version_minor": 0,
       "model_id": "fe3aca1e53604088ae2c030330c4a8d9"
      }
     },
     "metadata": {}
    },
    {
     "output_type": "stream",
     "name": "stdout",
     "text": [
      "\n"
     ]
    },
    {
     "output_type": "display_data",
     "data": {
      "text/plain": "HBox(children=(FloatProgress(value=0.0, max=43.0), HTML(value='')))",
      "application/vnd.jupyter.widget-view+json": {
       "version_major": 2,
       "version_minor": 0,
       "model_id": "adf2dd72ff9d4758909b6e2f9a80a546"
      }
     },
     "metadata": {}
    },
    {
     "output_type": "stream",
     "name": "stdout",
     "text": [
      "\n"
     ]
    },
    {
     "output_type": "display_data",
     "data": {
      "text/plain": "HBox(children=(FloatProgress(value=0.0, max=34.0), HTML(value='')))",
      "application/vnd.jupyter.widget-view+json": {
       "version_major": 2,
       "version_minor": 0,
       "model_id": "ff766cf462ff4841863b93163d281764"
      }
     },
     "metadata": {}
    },
    {
     "output_type": "stream",
     "name": "stdout",
     "text": [
      "\n"
     ]
    },
    {
     "output_type": "display_data",
     "data": {
      "text/plain": "HBox(children=(FloatProgress(value=0.0, max=33.0), HTML(value='')))",
      "application/vnd.jupyter.widget-view+json": {
       "version_major": 2,
       "version_minor": 0,
       "model_id": "a5b86e8ac621431fbceb788861d4ceda"
      }
     },
     "metadata": {}
    },
    {
     "output_type": "stream",
     "name": "stdout",
     "text": [
      "\n"
     ]
    },
    {
     "output_type": "display_data",
     "data": {
      "text/plain": "HBox(children=(FloatProgress(value=0.0, max=37.0), HTML(value='')))",
      "application/vnd.jupyter.widget-view+json": {
       "version_major": 2,
       "version_minor": 0,
       "model_id": "27899a64f0e54e4a971f20fc3a67355c"
      }
     },
     "metadata": {}
    },
    {
     "output_type": "stream",
     "name": "stdout",
     "text": [
      "\n"
     ]
    },
    {
     "output_type": "display_data",
     "data": {
      "text/plain": "HBox(children=(FloatProgress(value=0.0, max=34.0), HTML(value='')))",
      "application/vnd.jupyter.widget-view+json": {
       "version_major": 2,
       "version_minor": 0,
       "model_id": "3aa2564dcc7a4c04bc14311287927e1b"
      }
     },
     "metadata": {}
    },
    {
     "output_type": "stream",
     "name": "stdout",
     "text": [
      "\n"
     ]
    },
    {
     "output_type": "display_data",
     "data": {
      "text/plain": "HBox(children=(FloatProgress(value=0.0, max=40.0), HTML(value='')))",
      "application/vnd.jupyter.widget-view+json": {
       "version_major": 2,
       "version_minor": 0,
       "model_id": "5c73f455ac1a47e0844126beb80063d5"
      }
     },
     "metadata": {}
    },
    {
     "output_type": "stream",
     "name": "stdout",
     "text": [
      "\n"
     ]
    },
    {
     "output_type": "display_data",
     "data": {
      "text/plain": "HBox(children=(FloatProgress(value=0.0, max=35.0), HTML(value='')))",
      "application/vnd.jupyter.widget-view+json": {
       "version_major": 2,
       "version_minor": 0,
       "model_id": "793c97d29fee4e0b8ab407f2d01ff61d"
      }
     },
     "metadata": {}
    },
    {
     "output_type": "stream",
     "name": "stdout",
     "text": [
      "\n"
     ]
    },
    {
     "output_type": "display_data",
     "data": {
      "text/plain": "HBox(children=(FloatProgress(value=0.0, max=42.0), HTML(value='')))",
      "application/vnd.jupyter.widget-view+json": {
       "version_major": 2,
       "version_minor": 0,
       "model_id": "15ee4e8935f04e34a021a01569656bde"
      }
     },
     "metadata": {}
    },
    {
     "output_type": "stream",
     "name": "stdout",
     "text": [
      "\n"
     ]
    },
    {
     "output_type": "display_data",
     "data": {
      "text/plain": "HBox(children=(FloatProgress(value=0.0, max=44.0), HTML(value='')))",
      "application/vnd.jupyter.widget-view+json": {
       "version_major": 2,
       "version_minor": 0,
       "model_id": "2bdce9df6e1a41599184f64a51c8c7bd"
      }
     },
     "metadata": {}
    },
    {
     "output_type": "stream",
     "name": "stdout",
     "text": [
      "\n"
     ]
    },
    {
     "output_type": "display_data",
     "data": {
      "text/plain": "HBox(children=(FloatProgress(value=0.0, max=34.0), HTML(value='')))",
      "application/vnd.jupyter.widget-view+json": {
       "version_major": 2,
       "version_minor": 0,
       "model_id": "f0eee06ee5b447d8a71a5bb0e9585cc4"
      }
     },
     "metadata": {}
    },
    {
     "output_type": "stream",
     "name": "stdout",
     "text": [
      "\n"
     ]
    },
    {
     "output_type": "display_data",
     "data": {
      "text/plain": "HBox(children=(FloatProgress(value=0.0, max=35.0), HTML(value='')))",
      "application/vnd.jupyter.widget-view+json": {
       "version_major": 2,
       "version_minor": 0,
       "model_id": "7cb2a47dc42340c999bc5dbb0755a676"
      }
     },
     "metadata": {}
    },
    {
     "output_type": "stream",
     "name": "stdout",
     "text": [
      "\n"
     ]
    },
    {
     "output_type": "display_data",
     "data": {
      "text/plain": "HBox(children=(FloatProgress(value=0.0, max=43.0), HTML(value='')))",
      "application/vnd.jupyter.widget-view+json": {
       "version_major": 2,
       "version_minor": 0,
       "model_id": "827a09bacd2248f18655eecfa9fbb374"
      }
     },
     "metadata": {}
    },
    {
     "output_type": "stream",
     "name": "stdout",
     "text": [
      "\n"
     ]
    },
    {
     "output_type": "display_data",
     "data": {
      "text/plain": "HBox(children=(FloatProgress(value=0.0, max=42.0), HTML(value='')))",
      "application/vnd.jupyter.widget-view+json": {
       "version_major": 2,
       "version_minor": 0,
       "model_id": "25a4058d83ae454d859e0e7f943f9e1d"
      }
     },
     "metadata": {}
    },
    {
     "output_type": "stream",
     "name": "stdout",
     "text": [
      "\n"
     ]
    },
    {
     "output_type": "display_data",
     "data": {
      "text/plain": "HBox(children=(FloatProgress(value=0.0, max=33.0), HTML(value='')))",
      "application/vnd.jupyter.widget-view+json": {
       "version_major": 2,
       "version_minor": 0,
       "model_id": "c881e82667b349b287b6e2c24ca9d420"
      }
     },
     "metadata": {}
    },
    {
     "output_type": "stream",
     "name": "stdout",
     "text": [
      "\n"
     ]
    },
    {
     "output_type": "display_data",
     "data": {
      "text/plain": "HBox(children=(FloatProgress(value=0.0, max=43.0), HTML(value='')))",
      "application/vnd.jupyter.widget-view+json": {
       "version_major": 2,
       "version_minor": 0,
       "model_id": "e7b8e37f783c49c983ecad4ce3dd439c"
      }
     },
     "metadata": {}
    },
    {
     "output_type": "stream",
     "name": "stdout",
     "text": [
      "\n"
     ]
    },
    {
     "output_type": "display_data",
     "data": {
      "text/plain": "HBox(children=(FloatProgress(value=0.0, max=35.0), HTML(value='')))",
      "application/vnd.jupyter.widget-view+json": {
       "version_major": 2,
       "version_minor": 0,
       "model_id": "5af42f6741854bed85926bcdf37bc417"
      }
     },
     "metadata": {}
    },
    {
     "output_type": "stream",
     "name": "stdout",
     "text": [
      "\n"
     ]
    },
    {
     "output_type": "display_data",
     "data": {
      "text/plain": "HBox(children=(FloatProgress(value=0.0, max=35.0), HTML(value='')))",
      "application/vnd.jupyter.widget-view+json": {
       "version_major": 2,
       "version_minor": 0,
       "model_id": "745c23c1a1974ef2b4c3c70df0888a51"
      }
     },
     "metadata": {}
    },
    {
     "output_type": "stream",
     "name": "stdout",
     "text": [
      "\n"
     ]
    },
    {
     "output_type": "display_data",
     "data": {
      "text/plain": "HBox(children=(FloatProgress(value=0.0, max=49.0), HTML(value='')))",
      "application/vnd.jupyter.widget-view+json": {
       "version_major": 2,
       "version_minor": 0,
       "model_id": "8e9b358fa18e4150aa1fb3b49baf76dd"
      }
     },
     "metadata": {}
    },
    {
     "output_type": "stream",
     "name": "stdout",
     "text": [
      "\n"
     ]
    },
    {
     "output_type": "display_data",
     "data": {
      "text/plain": "HBox(children=(FloatProgress(value=0.0, max=34.0), HTML(value='')))",
      "application/vnd.jupyter.widget-view+json": {
       "version_major": 2,
       "version_minor": 0,
       "model_id": "b624f8451b2b4e1c93e25bb2daf5071c"
      }
     },
     "metadata": {}
    },
    {
     "output_type": "stream",
     "name": "stdout",
     "text": [
      "\n"
     ]
    },
    {
     "output_type": "display_data",
     "data": {
      "text/plain": "HBox(children=(FloatProgress(value=0.0, max=43.0), HTML(value='')))",
      "application/vnd.jupyter.widget-view+json": {
       "version_major": 2,
       "version_minor": 0,
       "model_id": "362799b035874e67b7961a91ffedb67e"
      }
     },
     "metadata": {}
    },
    {
     "output_type": "stream",
     "name": "stdout",
     "text": [
      "\n"
     ]
    },
    {
     "output_type": "display_data",
     "data": {
      "text/plain": "HBox(children=(FloatProgress(value=0.0, max=41.0), HTML(value='')))",
      "application/vnd.jupyter.widget-view+json": {
       "version_major": 2,
       "version_minor": 0,
       "model_id": "42c2bdebb8d6421cade7b0f2fed0d30b"
      }
     },
     "metadata": {}
    },
    {
     "output_type": "stream",
     "name": "stdout",
     "text": [
      "\n"
     ]
    },
    {
     "output_type": "display_data",
     "data": {
      "text/plain": "HBox(children=(FloatProgress(value=0.0, max=35.0), HTML(value='')))",
      "application/vnd.jupyter.widget-view+json": {
       "version_major": 2,
       "version_minor": 0,
       "model_id": "46e9d10266544cc4b7f3c5002e35ff7d"
      }
     },
     "metadata": {}
    },
    {
     "output_type": "stream",
     "name": "stdout",
     "text": [
      "\n"
     ]
    },
    {
     "output_type": "display_data",
     "data": {
      "text/plain": "HBox(children=(FloatProgress(value=0.0, max=35.0), HTML(value='')))",
      "application/vnd.jupyter.widget-view+json": {
       "version_major": 2,
       "version_minor": 0,
       "model_id": "f439ba47b4124798926d94923b7bf489"
      }
     },
     "metadata": {}
    },
    {
     "output_type": "stream",
     "name": "stdout",
     "text": [
      "\n"
     ]
    },
    {
     "output_type": "display_data",
     "data": {
      "text/plain": "HBox(children=(FloatProgress(value=0.0, max=34.0), HTML(value='')))",
      "application/vnd.jupyter.widget-view+json": {
       "version_major": 2,
       "version_minor": 0,
       "model_id": "1b5210f1324e4888ac10c2c7b85aeb4a"
      }
     },
     "metadata": {}
    },
    {
     "output_type": "stream",
     "name": "stdout",
     "text": [
      "\n"
     ]
    },
    {
     "output_type": "display_data",
     "data": {
      "text/plain": "HBox(children=(FloatProgress(value=0.0, max=37.0), HTML(value='')))",
      "application/vnd.jupyter.widget-view+json": {
       "version_major": 2,
       "version_minor": 0,
       "model_id": "84316b908f7940388455559db3cf5f75"
      }
     },
     "metadata": {}
    },
    {
     "output_type": "stream",
     "name": "stdout",
     "text": [
      "\n"
     ]
    },
    {
     "output_type": "display_data",
     "data": {
      "text/plain": "HBox(children=(FloatProgress(value=0.0, max=34.0), HTML(value='')))",
      "application/vnd.jupyter.widget-view+json": {
       "version_major": 2,
       "version_minor": 0,
       "model_id": "087867242d084421a28e055e96e7872e"
      }
     },
     "metadata": {}
    },
    {
     "output_type": "stream",
     "name": "stdout",
     "text": [
      "\n"
     ]
    },
    {
     "output_type": "display_data",
     "data": {
      "text/plain": "HBox(children=(FloatProgress(value=0.0, max=46.0), HTML(value='')))",
      "application/vnd.jupyter.widget-view+json": {
       "version_major": 2,
       "version_minor": 0,
       "model_id": "4c616e60e7c5498a917cc5a7a85d2c17"
      }
     },
     "metadata": {}
    },
    {
     "output_type": "stream",
     "name": "stdout",
     "text": [
      "\n"
     ]
    },
    {
     "output_type": "display_data",
     "data": {
      "text/plain": "HBox(children=(FloatProgress(value=0.0, max=33.0), HTML(value='')))",
      "application/vnd.jupyter.widget-view+json": {
       "version_major": 2,
       "version_minor": 0,
       "model_id": "f72f383c7b6445968abd7aa0d38f1cbe"
      }
     },
     "metadata": {}
    },
    {
     "output_type": "stream",
     "name": "stdout",
     "text": [
      "\n"
     ]
    },
    {
     "output_type": "display_data",
     "data": {
      "text/plain": "HBox(children=(FloatProgress(value=0.0, max=39.0), HTML(value='')))",
      "application/vnd.jupyter.widget-view+json": {
       "version_major": 2,
       "version_minor": 0,
       "model_id": "7b610fceb20448dfb031405d5c0b9bb7"
      }
     },
     "metadata": {}
    },
    {
     "output_type": "stream",
     "name": "stdout",
     "text": [
      "\n"
     ]
    },
    {
     "output_type": "display_data",
     "data": {
      "text/plain": "HBox(children=(FloatProgress(value=0.0, max=36.0), HTML(value='')))",
      "application/vnd.jupyter.widget-view+json": {
       "version_major": 2,
       "version_minor": 0,
       "model_id": "8f3b2309463940fe864e88f29f85b728"
      }
     },
     "metadata": {}
    },
    {
     "output_type": "stream",
     "name": "stdout",
     "text": [
      "\n"
     ]
    },
    {
     "output_type": "display_data",
     "data": {
      "text/plain": "HBox(children=(FloatProgress(value=0.0, max=42.0), HTML(value='')))",
      "application/vnd.jupyter.widget-view+json": {
       "version_major": 2,
       "version_minor": 0,
       "model_id": "61bfc342049a4b9eb347dd506f5fb8e7"
      }
     },
     "metadata": {}
    },
    {
     "output_type": "stream",
     "name": "stdout",
     "text": [
      "\n"
     ]
    },
    {
     "output_type": "display_data",
     "data": {
      "text/plain": "HBox(children=(FloatProgress(value=0.0, max=35.0), HTML(value='')))",
      "application/vnd.jupyter.widget-view+json": {
       "version_major": 2,
       "version_minor": 0,
       "model_id": "59934bb23e8f4e97adc3966477b13299"
      }
     },
     "metadata": {}
    },
    {
     "output_type": "stream",
     "name": "stdout",
     "text": [
      "\n"
     ]
    },
    {
     "output_type": "display_data",
     "data": {
      "text/plain": "HBox(children=(FloatProgress(value=0.0, max=43.0), HTML(value='')))",
      "application/vnd.jupyter.widget-view+json": {
       "version_major": 2,
       "version_minor": 0,
       "model_id": "e5617f98ffb94db68565ff43777725c2"
      }
     },
     "metadata": {}
    },
    {
     "output_type": "stream",
     "name": "stdout",
     "text": [
      "\n"
     ]
    },
    {
     "output_type": "display_data",
     "data": {
      "text/plain": "HBox(children=(FloatProgress(value=0.0, max=44.0), HTML(value='')))",
      "application/vnd.jupyter.widget-view+json": {
       "version_major": 2,
       "version_minor": 0,
       "model_id": "6466f2c52a4b449ca6d69a6d9e6d3823"
      }
     },
     "metadata": {}
    },
    {
     "output_type": "stream",
     "name": "stdout",
     "text": [
      "\n\n"
     ]
    }
   ],
   "source": [
    "models = [HMM(), HMM()]\n",
    "dataset = read_data()\n",
    "\n",
    "# Training Model \n",
    "for i in range(len(CLASSES)):\n",
    "    data = dataset[i]\n",
    "    sum_ = 0\n",
    "    for file in tqdm(data): # Decrease the size of training data to reduce time\n",
    "        for seq in tqdm(file):\n",
    "            models[i].update(seq)"
   ]
  },
  {
   "source": [
    "## Part 2\n",
    "\n",
    "Implement a basic two-class classifier using the HMMs constructed in the previous step."
   ],
   "cell_type": "markdown",
   "metadata": {}
  },
  {
   "cell_type": "code",
   "execution_count": 7,
   "metadata": {},
   "outputs": [
    {
     "output_type": "stream",
     "name": "stdout",
     "text": [
      "xho\nxho\n"
     ]
    }
   ],
   "source": [
    "def classify(model, seq):\n",
    "    likelihood = np.array([model[i].likelihood(seq) for i in range(len(CLASSES))])\n",
    "    return CLASSES[np.argmax(likelihood)]\n",
    "\n",
    "tests = [dataset[0][-1][0], dataset[1][-1][0]]\n",
    "\n",
    "for test in tests:\n",
    "    print(classify(models, test))"
   ]
  },
  {
   "source": [
    "## Q Experiment with different model orders (i.e., K = 3, 5, 7) and report your findings in terms of the classifier’s performance.\n",
    "\n",
    "- The precision of classifier increases with the increase in the model order.\n",
    "- Training time increases with the increase in the model order.\n"
   ],
   "cell_type": "markdown",
   "metadata": {}
  }
 ]
}