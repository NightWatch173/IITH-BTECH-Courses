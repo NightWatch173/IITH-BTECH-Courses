{
 "nbformat": 4,
 "nbformat_minor": 2,
 "metadata": {
  "language_info": {
   "name": "python",
   "codemirror_mode": {
    "name": "ipython",
    "version": 3
   },
   "version": "3.7.4-final"
  },
  "orig_nbformat": 2,
  "file_extension": ".py",
  "mimetype": "text/x-python",
  "name": "python",
  "npconvert_exporter": "python",
  "pygments_lexer": "ipython3",
  "version": 3,
  "kernelspec": {
   "name": "python3",
   "display_name": "Python 3",
   "language": "python"
  }
 },
 "cells": [
  {
   "cell_type": "code",
   "execution_count": 1,
   "metadata": {},
   "outputs": [],
   "source": [
    "import copy\n",
    "import numpy as np\n",
    "import pandas as pd\n",
    "import pathlib\n",
    "\n",
    "from typing import DefaultDict, List, Tuple, Set\n",
    "from collections import defaultdict"
   ]
  },
  {
   "cell_type": "code",
   "execution_count": 2,
   "metadata": {},
   "outputs": [],
   "source": [
    "# All CONSTANTS used in the notebook\n",
    "\n",
    "# Set the path to the Collusion Clustering dataset\n",
    "PATH = pathlib.Path('./dataset.csv')\n",
    "MAX_DATASET_SIZE = 10\n",
    "DELTA = 0.000001 # Stability\n",
    "\n",
    "# Alias\n",
    "Graph = DefaultDict[int, List[Tuple[int, int]]]"
   ]
  },
  {
   "cell_type": "code",
   "execution_count": 3,
   "metadata": {},
   "outputs": [],
   "source": [
    "def process_dataset(path: pathlib.Path):\n",
    "    \"\"\"Read and process dataset\"\"\"\n",
    "    \n",
    "    df = pd.read_csv(path)\n",
    "    df.columns = ['sid', 'bid', 'amount']\n",
    "    return df"
   ]
  },
  {
   "cell_type": "code",
   "execution_count": 4,
   "metadata": {},
   "outputs": [],
   "source": [
    "# Setting seed\n",
    "np.random.seed(42)\n",
    "df = process_dataset(PATH)"
   ]
  },
  {
   "cell_type": "code",
   "execution_count": 5,
   "metadata": {},
   "outputs": [],
   "source": [
    "graph = defaultdict(list)\n",
    "for index, row in df.iterrows():\n",
    "    sid, bid, amount = row\n",
    "    graph[sid].append((bid, amount))"
   ]
  },
  {
   "cell_type": "code",
   "execution_count": 6,
   "metadata": {},
   "outputs": [],
   "source": [
    "class CollusionClustering:\n",
    "    def __init__(self, k: int, *, m: int, h: int):\n",
    "        assert 1 <= m <= k\n",
    "        assert 0 <= h <= 100\n",
    "        self.k = k\n",
    "        self.m = m\n",
    "        self.h = h\n",
    "    \n",
    "    def _get_sfg(self, graph: Graph):\n",
    "        \"\"\"Return a Stock Flow Graph with max k neighbours\"\"\"\n",
    "        sfg = copy.copy(graph)\n",
    "        for v in sfg.keys():\n",
    "            sfg[v].sort(key=lambda x: x[1], reverse=True)\n",
    "\n",
    "            # k-nearest neighbours of v\n",
    "            sfg[v] = sfg[sid][:self.k]\n",
    "        return sfg\n",
    "\n",
    "    def _get_internal_trade_val(self, c):\n",
    "        total = 0 \n",
    "        for u in c:\n",
    "            for v, amount in self._G[u]:\n",
    "                if u != v and v in c:\n",
    "                    total += amount\n",
    "        return total \n",
    "\n",
    "    def _get_collusion_level(self, c1: Set[int], c2: Set[int]):\n",
    "        assert c1.isdisjoint(c2)\n",
    "\n",
    "        c = c1 | c2\n",
    "\n",
    "        internal_trade = self._get_internal_trade_val(c)\n",
    "        external_trade = self._get_external_trade_val(c) + DELTA\n",
    "                    \n",
    "        return internal_trade / external_trade\n",
    "\n",
    "    def _get_cluster_pairs(self, S):\n",
    "        shape = (len(S), len(S))\n",
    "        return sorted([(x, y, self._get_collusion_level(S[x], S[y])) for x, y in np.ndindex(shape) if x != y], key=lambda t: t[2], reverse=True)\n",
    "\n",
    "    def _km_compatibility(self, p, D):\n",
    "        knn_p = self._G[p]\n",
    "        return len(knn_p) >= min(self.m, len(D))\n",
    "\n",
    "    def _khm_compatibility(self, C, D):\n",
    "        c_compatible = sum([self._km_compatibility(c, D) for c in C])\n",
    "        d_compatible = sum([self._km_compatibility(d, C) for d in D])\n",
    "        if c_compatible >= int(self.h * len(C) / 100) and d_compatible >= int(self.h * len(D) / 100):\n",
    "            return True\n",
    "        return False\n",
    "\n",
    "    def fit(self, graph: Graph):\n",
    "        # S contains collusion sets\n",
    "        self._G = self._get_sfg(graph)\n",
    "        \n",
    "        # Initially every vertex is a singleton cluster\n",
    "        S = list(map(lambda x: {x}, self._G.keys()))\n",
    "\n",
    "        while True:\n",
    "            B = self._get_cluster_pairs(S)\n",
    "            found = False\n",
    "            for C_i, D_i, Lc in B:\n",
    "                if Lc > 0 and self._khm_compatibility(S[C_i], S[D_i]):\n",
    "                    S[C_i].update(S[D_i])\n",
    "                    S[D_i], S[-1] = S[-1], S[D_i]\n",
    "                    S.pop()\n",
    "                    found = True\n",
    "                    print('Merging')\n",
    "                    break\n",
    "            if not found:\n",
    "                break\n",
    "        return S\n",
    "\n",
    "    def _get_external_trade_val(self, c):\n",
    "        total = 0\n",
    "        for u in self._G.keys():\n",
    "            for v, amount in self._G[u]:\n",
    "                if u != v and ((v in c) != (u in c)):\n",
    "                    total += amount\n",
    "        return total \n"
   ]
  },
  {
   "cell_type": "code",
   "execution_count": 7,
   "metadata": {
    "tags": []
   },
   "outputs": [
    {
     "output_type": "stream",
     "name": "stdout",
     "text": [
      "Merging\nMerging\nMerging\nMerging\nMerging\nMerging\nMerging\n"
     ]
    }
   ],
   "source": [
    "S = CollusionClustering(k=4, m=1, h=50).fit(graph)"
   ]
  },
  {
   "cell_type": "code",
   "execution_count": 8,
   "metadata": {},
   "outputs": [
    {
     "output_type": "display_data",
     "data": {
      "text/plain": "[{6729, 13548, 43798, 50762, 51632, 86038, 87317, 96317}]"
     },
     "metadata": {}
    }
   ],
   "source": [
    "display(S)"
   ]
  }
 ]
}